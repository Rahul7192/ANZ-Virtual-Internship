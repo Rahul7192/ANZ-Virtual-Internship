{
 "cells": [
  {
   "cell_type": "code",
   "execution_count": 2,
   "id": "482f56da",
   "metadata": {},
   "outputs": [],
   "source": [
    "import numpy as np\n",
    "import pandas as pd\n",
    "import matplotlib.pyplot as plt\n",
    "import seaborn as sns\n",
    "import math\n",
    "import warnings\n",
    "warnings.filterwarnings(\"ignore\")"
   ]
  },
  {
   "cell_type": "code",
   "execution_count": 3,
   "id": "effc5969",
   "metadata": {},
   "outputs": [
    {
     "data": {
      "text/html": [
       "<div>\n",
       "<style scoped>\n",
       "    .dataframe tbody tr th:only-of-type {\n",
       "        vertical-align: middle;\n",
       "    }\n",
       "\n",
       "    .dataframe tbody tr th {\n",
       "        vertical-align: top;\n",
       "    }\n",
       "\n",
       "    .dataframe thead th {\n",
       "        text-align: right;\n",
       "    }\n",
       "</style>\n",
       "<table border=\"1\" class=\"dataframe\">\n",
       "  <thead>\n",
       "    <tr style=\"text-align: right;\">\n",
       "      <th></th>\n",
       "      <th>status</th>\n",
       "      <th>card_present_flag</th>\n",
       "      <th>bpay_biller_code</th>\n",
       "      <th>account</th>\n",
       "      <th>currency</th>\n",
       "      <th>long_lat</th>\n",
       "      <th>txn_description</th>\n",
       "      <th>merchant_id</th>\n",
       "      <th>merchant_code</th>\n",
       "      <th>first_name</th>\n",
       "      <th>...</th>\n",
       "      <th>age</th>\n",
       "      <th>merchant_suburb</th>\n",
       "      <th>merchant_state</th>\n",
       "      <th>extraction</th>\n",
       "      <th>amount</th>\n",
       "      <th>transaction_id</th>\n",
       "      <th>country</th>\n",
       "      <th>customer_id</th>\n",
       "      <th>merchant_long_lat</th>\n",
       "      <th>movement</th>\n",
       "    </tr>\n",
       "  </thead>\n",
       "  <tbody>\n",
       "    <tr>\n",
       "      <th>0</th>\n",
       "      <td>authorized</td>\n",
       "      <td>1.0</td>\n",
       "      <td>NaN</td>\n",
       "      <td>ACC-1598451071</td>\n",
       "      <td>AUD</td>\n",
       "      <td>153.41 -27.95</td>\n",
       "      <td>POS</td>\n",
       "      <td>81c48296-73be-44a7-befa-d053f48ce7cd</td>\n",
       "      <td>NaN</td>\n",
       "      <td>Diana</td>\n",
       "      <td>...</td>\n",
       "      <td>26</td>\n",
       "      <td>Ashmore</td>\n",
       "      <td>QLD</td>\n",
       "      <td>2018-08-01T01:01:15.000+0000</td>\n",
       "      <td>16.25</td>\n",
       "      <td>a623070bfead4541a6b0fff8a09e706c</td>\n",
       "      <td>Australia</td>\n",
       "      <td>CUS-2487424745</td>\n",
       "      <td>153.38 -27.99</td>\n",
       "      <td>debit</td>\n",
       "    </tr>\n",
       "    <tr>\n",
       "      <th>1</th>\n",
       "      <td>authorized</td>\n",
       "      <td>0.0</td>\n",
       "      <td>NaN</td>\n",
       "      <td>ACC-1598451071</td>\n",
       "      <td>AUD</td>\n",
       "      <td>153.41 -27.95</td>\n",
       "      <td>SALES-POS</td>\n",
       "      <td>830a451c-316e-4a6a-bf25-e37caedca49e</td>\n",
       "      <td>NaN</td>\n",
       "      <td>Diana</td>\n",
       "      <td>...</td>\n",
       "      <td>26</td>\n",
       "      <td>Sydney</td>\n",
       "      <td>NSW</td>\n",
       "      <td>2018-08-01T01:13:45.000+0000</td>\n",
       "      <td>14.19</td>\n",
       "      <td>13270a2a902145da9db4c951e04b51b9</td>\n",
       "      <td>Australia</td>\n",
       "      <td>CUS-2487424745</td>\n",
       "      <td>151.21 -33.87</td>\n",
       "      <td>debit</td>\n",
       "    </tr>\n",
       "    <tr>\n",
       "      <th>2</th>\n",
       "      <td>authorized</td>\n",
       "      <td>1.0</td>\n",
       "      <td>NaN</td>\n",
       "      <td>ACC-1222300524</td>\n",
       "      <td>AUD</td>\n",
       "      <td>151.23 -33.94</td>\n",
       "      <td>POS</td>\n",
       "      <td>835c231d-8cdf-4e96-859d-e9d571760cf0</td>\n",
       "      <td>NaN</td>\n",
       "      <td>Michael</td>\n",
       "      <td>...</td>\n",
       "      <td>38</td>\n",
       "      <td>Sydney</td>\n",
       "      <td>NSW</td>\n",
       "      <td>2018-08-01T01:26:15.000+0000</td>\n",
       "      <td>6.42</td>\n",
       "      <td>feb79e7ecd7048a5a36ec889d1a94270</td>\n",
       "      <td>Australia</td>\n",
       "      <td>CUS-2142601169</td>\n",
       "      <td>151.21 -33.87</td>\n",
       "      <td>debit</td>\n",
       "    </tr>\n",
       "    <tr>\n",
       "      <th>3</th>\n",
       "      <td>authorized</td>\n",
       "      <td>1.0</td>\n",
       "      <td>NaN</td>\n",
       "      <td>ACC-1037050564</td>\n",
       "      <td>AUD</td>\n",
       "      <td>153.10 -27.66</td>\n",
       "      <td>SALES-POS</td>\n",
       "      <td>48514682-c78a-4a88-b0da-2d6302e64673</td>\n",
       "      <td>NaN</td>\n",
       "      <td>Rhonda</td>\n",
       "      <td>...</td>\n",
       "      <td>40</td>\n",
       "      <td>Buderim</td>\n",
       "      <td>QLD</td>\n",
       "      <td>2018-08-01T01:38:45.000+0000</td>\n",
       "      <td>40.90</td>\n",
       "      <td>2698170da3704fd981b15e64a006079e</td>\n",
       "      <td>Australia</td>\n",
       "      <td>CUS-1614226872</td>\n",
       "      <td>153.05 -26.68</td>\n",
       "      <td>debit</td>\n",
       "    </tr>\n",
       "    <tr>\n",
       "      <th>4</th>\n",
       "      <td>authorized</td>\n",
       "      <td>1.0</td>\n",
       "      <td>NaN</td>\n",
       "      <td>ACC-1598451071</td>\n",
       "      <td>AUD</td>\n",
       "      <td>153.41 -27.95</td>\n",
       "      <td>SALES-POS</td>\n",
       "      <td>b4e02c10-0852-4273-b8fd-7b3395e32eb0</td>\n",
       "      <td>NaN</td>\n",
       "      <td>Diana</td>\n",
       "      <td>...</td>\n",
       "      <td>26</td>\n",
       "      <td>Mermaid Beach</td>\n",
       "      <td>QLD</td>\n",
       "      <td>2018-08-01T01:51:15.000+0000</td>\n",
       "      <td>3.25</td>\n",
       "      <td>329adf79878c4cf0aeb4188b4691c266</td>\n",
       "      <td>Australia</td>\n",
       "      <td>CUS-2487424745</td>\n",
       "      <td>153.44 -28.06</td>\n",
       "      <td>debit</td>\n",
       "    </tr>\n",
       "    <tr>\n",
       "      <th>5</th>\n",
       "      <td>posted</td>\n",
       "      <td>NaN</td>\n",
       "      <td>NaN</td>\n",
       "      <td>ACC-1608363396</td>\n",
       "      <td>AUD</td>\n",
       "      <td>151.22 -33.87</td>\n",
       "      <td>PAYMENT</td>\n",
       "      <td>NaN</td>\n",
       "      <td>NaN</td>\n",
       "      <td>Robert</td>\n",
       "      <td>...</td>\n",
       "      <td>20</td>\n",
       "      <td>NaN</td>\n",
       "      <td>NaN</td>\n",
       "      <td>2018-08-01T02:00:00.000+0000</td>\n",
       "      <td>163.00</td>\n",
       "      <td>1005b48a6eda4ffd85e9b649dc9467d3</td>\n",
       "      <td>Australia</td>\n",
       "      <td>CUS-2688605418</td>\n",
       "      <td>NaN</td>\n",
       "      <td>debit</td>\n",
       "    </tr>\n",
       "    <tr>\n",
       "      <th>6</th>\n",
       "      <td>authorized</td>\n",
       "      <td>1.0</td>\n",
       "      <td>NaN</td>\n",
       "      <td>ACC-2776252858</td>\n",
       "      <td>AUD</td>\n",
       "      <td>144.95 -37.76</td>\n",
       "      <td>SALES-POS</td>\n",
       "      <td>3aa18033-a0a9-4190-a117-b7caaf4d07e3</td>\n",
       "      <td>NaN</td>\n",
       "      <td>Kristin</td>\n",
       "      <td>...</td>\n",
       "      <td>43</td>\n",
       "      <td>Kalkallo</td>\n",
       "      <td>VIC</td>\n",
       "      <td>2018-08-01T02:23:04.000+0000</td>\n",
       "      <td>61.06</td>\n",
       "      <td>b79ca208099c4c28aa5dae966096d842</td>\n",
       "      <td>Australia</td>\n",
       "      <td>CUS-4123612273</td>\n",
       "      <td>144.95 -37.53</td>\n",
       "      <td>debit</td>\n",
       "    </tr>\n",
       "    <tr>\n",
       "      <th>7</th>\n",
       "      <td>authorized</td>\n",
       "      <td>1.0</td>\n",
       "      <td>NaN</td>\n",
       "      <td>ACC-2776252858</td>\n",
       "      <td>AUD</td>\n",
       "      <td>144.95 -37.76</td>\n",
       "      <td>POS</td>\n",
       "      <td>ee58145d-26e8-4b01-9cd9-62378014f21d</td>\n",
       "      <td>NaN</td>\n",
       "      <td>Kristin</td>\n",
       "      <td>...</td>\n",
       "      <td>43</td>\n",
       "      <td>Melbourne</td>\n",
       "      <td>VIC</td>\n",
       "      <td>2018-08-01T04:11:25.000+0000</td>\n",
       "      <td>15.61</td>\n",
       "      <td>e1c4a50d6a0549cbb3710a62a2fa00d5</td>\n",
       "      <td>Australia</td>\n",
       "      <td>CUS-4123612273</td>\n",
       "      <td>144.96 -37.81</td>\n",
       "      <td>debit</td>\n",
       "    </tr>\n",
       "    <tr>\n",
       "      <th>8</th>\n",
       "      <td>authorized</td>\n",
       "      <td>1.0</td>\n",
       "      <td>NaN</td>\n",
       "      <td>ACC-182446574</td>\n",
       "      <td>AUD</td>\n",
       "      <td>116.06 -32.00</td>\n",
       "      <td>POS</td>\n",
       "      <td>cfbf535e-caa8-499f-9d41-bbdc2b836d85</td>\n",
       "      <td>NaN</td>\n",
       "      <td>Tonya</td>\n",
       "      <td>...</td>\n",
       "      <td>27</td>\n",
       "      <td>Yokine</td>\n",
       "      <td>WA</td>\n",
       "      <td>2018-08-01T04:40:00.000+0000</td>\n",
       "      <td>19.25</td>\n",
       "      <td>799e39eb2c1b411185424b0f2cd18bda</td>\n",
       "      <td>Australia</td>\n",
       "      <td>CUS-3026014945</td>\n",
       "      <td>115.85 -31.9</td>\n",
       "      <td>debit</td>\n",
       "    </tr>\n",
       "    <tr>\n",
       "      <th>9</th>\n",
       "      <td>posted</td>\n",
       "      <td>NaN</td>\n",
       "      <td>NaN</td>\n",
       "      <td>ACC-602667573</td>\n",
       "      <td>AUD</td>\n",
       "      <td>151.23 -33.96</td>\n",
       "      <td>INTER BANK</td>\n",
       "      <td>NaN</td>\n",
       "      <td>NaN</td>\n",
       "      <td>Michael</td>\n",
       "      <td>...</td>\n",
       "      <td>40</td>\n",
       "      <td>NaN</td>\n",
       "      <td>NaN</td>\n",
       "      <td>2018-08-01T06:00:00.000+0000</td>\n",
       "      <td>21.00</td>\n",
       "      <td>798a77869014441b840a7a8a23408332</td>\n",
       "      <td>Australia</td>\n",
       "      <td>CUS-2031327464</td>\n",
       "      <td>NaN</td>\n",
       "      <td>debit</td>\n",
       "    </tr>\n",
       "  </tbody>\n",
       "</table>\n",
       "<p>10 rows × 23 columns</p>\n",
       "</div>"
      ],
      "text/plain": [
       "       status  card_present_flag bpay_biller_code         account currency  \\\n",
       "0  authorized                1.0              NaN  ACC-1598451071      AUD   \n",
       "1  authorized                0.0              NaN  ACC-1598451071      AUD   \n",
       "2  authorized                1.0              NaN  ACC-1222300524      AUD   \n",
       "3  authorized                1.0              NaN  ACC-1037050564      AUD   \n",
       "4  authorized                1.0              NaN  ACC-1598451071      AUD   \n",
       "5      posted                NaN              NaN  ACC-1608363396      AUD   \n",
       "6  authorized                1.0              NaN  ACC-2776252858      AUD   \n",
       "7  authorized                1.0              NaN  ACC-2776252858      AUD   \n",
       "8  authorized                1.0              NaN   ACC-182446574      AUD   \n",
       "9      posted                NaN              NaN   ACC-602667573      AUD   \n",
       "\n",
       "        long_lat txn_description                           merchant_id  \\\n",
       "0  153.41 -27.95             POS  81c48296-73be-44a7-befa-d053f48ce7cd   \n",
       "1  153.41 -27.95       SALES-POS  830a451c-316e-4a6a-bf25-e37caedca49e   \n",
       "2  151.23 -33.94             POS  835c231d-8cdf-4e96-859d-e9d571760cf0   \n",
       "3  153.10 -27.66       SALES-POS  48514682-c78a-4a88-b0da-2d6302e64673   \n",
       "4  153.41 -27.95       SALES-POS  b4e02c10-0852-4273-b8fd-7b3395e32eb0   \n",
       "5  151.22 -33.87         PAYMENT                                   NaN   \n",
       "6  144.95 -37.76       SALES-POS  3aa18033-a0a9-4190-a117-b7caaf4d07e3   \n",
       "7  144.95 -37.76             POS  ee58145d-26e8-4b01-9cd9-62378014f21d   \n",
       "8  116.06 -32.00             POS  cfbf535e-caa8-499f-9d41-bbdc2b836d85   \n",
       "9  151.23 -33.96      INTER BANK                                   NaN   \n",
       "\n",
       "   merchant_code first_name  ...  age merchant_suburb merchant_state  \\\n",
       "0            NaN      Diana  ...   26         Ashmore            QLD   \n",
       "1            NaN      Diana  ...   26          Sydney            NSW   \n",
       "2            NaN    Michael  ...   38          Sydney            NSW   \n",
       "3            NaN     Rhonda  ...   40         Buderim            QLD   \n",
       "4            NaN      Diana  ...   26   Mermaid Beach            QLD   \n",
       "5            NaN     Robert  ...   20             NaN            NaN   \n",
       "6            NaN    Kristin  ...   43        Kalkallo            VIC   \n",
       "7            NaN    Kristin  ...   43       Melbourne            VIC   \n",
       "8            NaN      Tonya  ...   27          Yokine             WA   \n",
       "9            NaN    Michael  ...   40             NaN            NaN   \n",
       "\n",
       "                     extraction  amount                    transaction_id  \\\n",
       "0  2018-08-01T01:01:15.000+0000   16.25  a623070bfead4541a6b0fff8a09e706c   \n",
       "1  2018-08-01T01:13:45.000+0000   14.19  13270a2a902145da9db4c951e04b51b9   \n",
       "2  2018-08-01T01:26:15.000+0000    6.42  feb79e7ecd7048a5a36ec889d1a94270   \n",
       "3  2018-08-01T01:38:45.000+0000   40.90  2698170da3704fd981b15e64a006079e   \n",
       "4  2018-08-01T01:51:15.000+0000    3.25  329adf79878c4cf0aeb4188b4691c266   \n",
       "5  2018-08-01T02:00:00.000+0000  163.00  1005b48a6eda4ffd85e9b649dc9467d3   \n",
       "6  2018-08-01T02:23:04.000+0000   61.06  b79ca208099c4c28aa5dae966096d842   \n",
       "7  2018-08-01T04:11:25.000+0000   15.61  e1c4a50d6a0549cbb3710a62a2fa00d5   \n",
       "8  2018-08-01T04:40:00.000+0000   19.25  799e39eb2c1b411185424b0f2cd18bda   \n",
       "9  2018-08-01T06:00:00.000+0000   21.00  798a77869014441b840a7a8a23408332   \n",
       "\n",
       "     country     customer_id merchant_long_lat movement  \n",
       "0  Australia  CUS-2487424745     153.38 -27.99    debit  \n",
       "1  Australia  CUS-2487424745     151.21 -33.87    debit  \n",
       "2  Australia  CUS-2142601169     151.21 -33.87    debit  \n",
       "3  Australia  CUS-1614226872     153.05 -26.68    debit  \n",
       "4  Australia  CUS-2487424745     153.44 -28.06    debit  \n",
       "5  Australia  CUS-2688605418               NaN    debit  \n",
       "6  Australia  CUS-4123612273     144.95 -37.53    debit  \n",
       "7  Australia  CUS-4123612273     144.96 -37.81    debit  \n",
       "8  Australia  CUS-3026014945      115.85 -31.9    debit  \n",
       "9  Australia  CUS-2031327464               NaN    debit  \n",
       "\n",
       "[10 rows x 23 columns]"
      ]
     },
     "execution_count": 3,
     "metadata": {},
     "output_type": "execute_result"
    }
   ],
   "source": [
    "ANZ= pd.read_excel('ANZ synthesised transaction dataset.xlsx')\n",
    "ANZ.head(10)\n"
   ]
  },
  {
   "cell_type": "code",
   "execution_count": 4,
   "id": "c5099d79",
   "metadata": {},
   "outputs": [
    {
     "name": "stdout",
     "output_type": "stream",
     "text": [
      "<class 'pandas.core.frame.DataFrame'>\n",
      "RangeIndex: 12043 entries, 0 to 12042\n",
      "Data columns (total 23 columns):\n",
      " #   Column             Non-Null Count  Dtype         \n",
      "---  ------             --------------  -----         \n",
      " 0   status             12043 non-null  object        \n",
      " 1   card_present_flag  7717 non-null   float64       \n",
      " 2   bpay_biller_code   885 non-null    object        \n",
      " 3   account            12043 non-null  object        \n",
      " 4   currency           12043 non-null  object        \n",
      " 5   long_lat           12043 non-null  object        \n",
      " 6   txn_description    12043 non-null  object        \n",
      " 7   merchant_id        7717 non-null   object        \n",
      " 8   merchant_code      883 non-null    float64       \n",
      " 9   first_name         12043 non-null  object        \n",
      " 10  balance            12043 non-null  float64       \n",
      " 11  date               12043 non-null  datetime64[ns]\n",
      " 12  gender             12043 non-null  object        \n",
      " 13  age                12043 non-null  int64         \n",
      " 14  merchant_suburb    7717 non-null   object        \n",
      " 15  merchant_state     7717 non-null   object        \n",
      " 16  extraction         12043 non-null  object        \n",
      " 17  amount             12043 non-null  float64       \n",
      " 18  transaction_id     12043 non-null  object        \n",
      " 19  country            12043 non-null  object        \n",
      " 20  customer_id        12043 non-null  object        \n",
      " 21  merchant_long_lat  7717 non-null   object        \n",
      " 22  movement           12043 non-null  object        \n",
      "dtypes: datetime64[ns](1), float64(4), int64(1), object(17)\n",
      "memory usage: 2.1+ MB\n"
     ]
    }
   ],
   "source": [
    "ANZ.info()\n"
   ]
  },
  {
   "cell_type": "code",
   "execution_count": 5,
   "id": "1c78ff17",
   "metadata": {},
   "outputs": [
    {
     "data": {
      "text/html": [
       "<div>\n",
       "<style scoped>\n",
       "    .dataframe tbody tr th:only-of-type {\n",
       "        vertical-align: middle;\n",
       "    }\n",
       "\n",
       "    .dataframe tbody tr th {\n",
       "        vertical-align: top;\n",
       "    }\n",
       "\n",
       "    .dataframe thead th {\n",
       "        text-align: right;\n",
       "    }\n",
       "</style>\n",
       "<table border=\"1\" class=\"dataframe\">\n",
       "  <thead>\n",
       "    <tr style=\"text-align: right;\">\n",
       "      <th></th>\n",
       "      <th>customer_id</th>\n",
       "      <th>age</th>\n",
       "      <th>gender</th>\n",
       "      <th>txn_description</th>\n",
       "      <th>balance</th>\n",
       "      <th>amount</th>\n",
       "      <th>movement</th>\n",
       "      <th>date</th>\n",
       "    </tr>\n",
       "  </thead>\n",
       "  <tbody>\n",
       "    <tr>\n",
       "      <th>0</th>\n",
       "      <td>CUS-2487424745</td>\n",
       "      <td>26</td>\n",
       "      <td>F</td>\n",
       "      <td>POS</td>\n",
       "      <td>35.39</td>\n",
       "      <td>16.25</td>\n",
       "      <td>debit</td>\n",
       "      <td>2018-08-01</td>\n",
       "    </tr>\n",
       "    <tr>\n",
       "      <th>1</th>\n",
       "      <td>CUS-2487424745</td>\n",
       "      <td>26</td>\n",
       "      <td>F</td>\n",
       "      <td>SALES-POS</td>\n",
       "      <td>21.20</td>\n",
       "      <td>14.19</td>\n",
       "      <td>debit</td>\n",
       "      <td>2018-08-01</td>\n",
       "    </tr>\n",
       "    <tr>\n",
       "      <th>2</th>\n",
       "      <td>CUS-2142601169</td>\n",
       "      <td>38</td>\n",
       "      <td>M</td>\n",
       "      <td>POS</td>\n",
       "      <td>5.71</td>\n",
       "      <td>6.42</td>\n",
       "      <td>debit</td>\n",
       "      <td>2018-08-01</td>\n",
       "    </tr>\n",
       "    <tr>\n",
       "      <th>3</th>\n",
       "      <td>CUS-1614226872</td>\n",
       "      <td>40</td>\n",
       "      <td>F</td>\n",
       "      <td>SALES-POS</td>\n",
       "      <td>2117.22</td>\n",
       "      <td>40.90</td>\n",
       "      <td>debit</td>\n",
       "      <td>2018-08-01</td>\n",
       "    </tr>\n",
       "    <tr>\n",
       "      <th>4</th>\n",
       "      <td>CUS-2487424745</td>\n",
       "      <td>26</td>\n",
       "      <td>F</td>\n",
       "      <td>SALES-POS</td>\n",
       "      <td>17.95</td>\n",
       "      <td>3.25</td>\n",
       "      <td>debit</td>\n",
       "      <td>2018-08-01</td>\n",
       "    </tr>\n",
       "    <tr>\n",
       "      <th>5</th>\n",
       "      <td>CUS-2688605418</td>\n",
       "      <td>20</td>\n",
       "      <td>M</td>\n",
       "      <td>PAYMENT</td>\n",
       "      <td>1705.43</td>\n",
       "      <td>163.00</td>\n",
       "      <td>debit</td>\n",
       "      <td>2018-08-01</td>\n",
       "    </tr>\n",
       "    <tr>\n",
       "      <th>6</th>\n",
       "      <td>CUS-4123612273</td>\n",
       "      <td>43</td>\n",
       "      <td>F</td>\n",
       "      <td>SALES-POS</td>\n",
       "      <td>1248.36</td>\n",
       "      <td>61.06</td>\n",
       "      <td>debit</td>\n",
       "      <td>2018-08-01</td>\n",
       "    </tr>\n",
       "    <tr>\n",
       "      <th>7</th>\n",
       "      <td>CUS-4123612273</td>\n",
       "      <td>43</td>\n",
       "      <td>F</td>\n",
       "      <td>POS</td>\n",
       "      <td>1232.75</td>\n",
       "      <td>15.61</td>\n",
       "      <td>debit</td>\n",
       "      <td>2018-08-01</td>\n",
       "    </tr>\n",
       "    <tr>\n",
       "      <th>8</th>\n",
       "      <td>CUS-3026014945</td>\n",
       "      <td>27</td>\n",
       "      <td>F</td>\n",
       "      <td>POS</td>\n",
       "      <td>213.16</td>\n",
       "      <td>19.25</td>\n",
       "      <td>debit</td>\n",
       "      <td>2018-08-01</td>\n",
       "    </tr>\n",
       "    <tr>\n",
       "      <th>9</th>\n",
       "      <td>CUS-2031327464</td>\n",
       "      <td>40</td>\n",
       "      <td>M</td>\n",
       "      <td>INTER BANK</td>\n",
       "      <td>466.58</td>\n",
       "      <td>21.00</td>\n",
       "      <td>debit</td>\n",
       "      <td>2018-08-01</td>\n",
       "    </tr>\n",
       "  </tbody>\n",
       "</table>\n",
       "</div>"
      ],
      "text/plain": [
       "      customer_id  age gender txn_description  balance  amount movement  \\\n",
       "0  CUS-2487424745   26      F             POS    35.39   16.25    debit   \n",
       "1  CUS-2487424745   26      F       SALES-POS    21.20   14.19    debit   \n",
       "2  CUS-2142601169   38      M             POS     5.71    6.42    debit   \n",
       "3  CUS-1614226872   40      F       SALES-POS  2117.22   40.90    debit   \n",
       "4  CUS-2487424745   26      F       SALES-POS    17.95    3.25    debit   \n",
       "5  CUS-2688605418   20      M         PAYMENT  1705.43  163.00    debit   \n",
       "6  CUS-4123612273   43      F       SALES-POS  1248.36   61.06    debit   \n",
       "7  CUS-4123612273   43      F             POS  1232.75   15.61    debit   \n",
       "8  CUS-3026014945   27      F             POS   213.16   19.25    debit   \n",
       "9  CUS-2031327464   40      M      INTER BANK   466.58   21.00    debit   \n",
       "\n",
       "        date  \n",
       "0 2018-08-01  \n",
       "1 2018-08-01  \n",
       "2 2018-08-01  \n",
       "3 2018-08-01  \n",
       "4 2018-08-01  \n",
       "5 2018-08-01  \n",
       "6 2018-08-01  \n",
       "7 2018-08-01  \n",
       "8 2018-08-01  \n",
       "9 2018-08-01  "
      ]
     },
     "execution_count": 5,
     "metadata": {},
     "output_type": "execute_result"
    }
   ],
   "source": [
    "r_data=ANZ[[\"customer_id\",\"age\",\"gender\",\"txn_description\",\"balance\",\"amount\",\"movement\",\"date\"]]\n",
    "r_data.head(10)"
   ]
  },
  {
   "cell_type": "code",
   "execution_count": 6,
   "id": "88d8b317",
   "metadata": {},
   "outputs": [
    {
     "data": {
      "text/plain": [
       "customer_id        0\n",
       "age                0\n",
       "gender             0\n",
       "txn_description    0\n",
       "balance            0\n",
       "amount             0\n",
       "movement           0\n",
       "date               0\n",
       "dtype: int64"
      ]
     },
     "execution_count": 6,
     "metadata": {},
     "output_type": "execute_result"
    }
   ],
   "source": [
    "r_data.isnull().sum()\n"
   ]
  },
  {
   "cell_type": "code",
   "execution_count": 7,
   "id": "089ff914",
   "metadata": {},
   "outputs": [
    {
     "data": {
      "text/plain": [
       "SALES-POS     3934\n",
       "POS           3783\n",
       "PAYMENT       2600\n",
       "PAY/SALARY     883\n",
       "INTER BANK     742\n",
       "PHONE BANK     101\n",
       "Name: txn_description, dtype: int64"
      ]
     },
     "execution_count": 7,
     "metadata": {},
     "output_type": "execute_result"
    }
   ],
   "source": [
    "r_data['txn_description'].value_counts()"
   ]
  },
  {
   "cell_type": "code",
   "execution_count": 8,
   "id": "3b597453",
   "metadata": {},
   "outputs": [
    {
     "data": {
      "text/plain": [
       "<AxesSubplot:xlabel='balance', ylabel='Density'>"
      ]
     },
     "execution_count": 8,
     "metadata": {},
     "output_type": "execute_result"
    },
    {
     "data": {
      "image/png": "[encoded data removed]",
      "text/plain": [
       "<Figure size 432x288 with 1 Axes>"
      ]
     },
     "metadata": {
      "needs_background": "light"
     },
     "output_type": "display_data"
    }
   ],
   "source": [
    "sns.distplot(r_data['balance'].dropna(),color='darkred',bins=15)"
   ]
  },
  {
   "cell_type": "code",
   "execution_count": 9,
   "id": "91321fc0",
   "metadata": {},
   "outputs": [
    {
     "name": "stdout",
     "output_type": "stream",
     "text": [
      "[18, 19, 20, 21, 22, 23, 24, 25, 26, 27, 28, 29, 30, 31, 33, 34, 35, 37, 38, 39, 40, 41, 42, 43, 44, 46, 47, 50, 52, 53, 64, 69, 78]\n"
     ]
    }
   ],
   "source": [
    "print(sorted(r_data['age'].unique()))\n"
   ]
  },
  {
   "cell_type": "markdown",
   "id": "a74823c5",
   "metadata": {},
   "source": [
    "\n",
    "Filtration the dataframe,choose data point with PAY/SALARY 'txn_description' & credit 'movement'. Creat new column annual_sal which is quater times multiple of amount. Categorical features encoding use simple mapping on binary features(gender). Set index with customer_id. As priviously filtration of dataframe,dropdown txn_description,movement."
   ]
  },
  {
   "cell_type": "code",
   "execution_count": 10,
   "id": "7f43fbd0",
   "metadata": {},
   "outputs": [
    {
     "data": {
      "text/html": [
       "<div>\n",
       "<style scoped>\n",
       "    .dataframe tbody tr th:only-of-type {\n",
       "        vertical-align: middle;\n",
       "    }\n",
       "\n",
       "    .dataframe tbody tr th {\n",
       "        vertical-align: top;\n",
       "    }\n",
       "\n",
       "    .dataframe thead th {\n",
       "        text-align: right;\n",
       "    }\n",
       "</style>\n",
       "<table border=\"1\" class=\"dataframe\">\n",
       "  <thead>\n",
       "    <tr style=\"text-align: right;\">\n",
       "      <th></th>\n",
       "      <th>age</th>\n",
       "      <th>gender</th>\n",
       "      <th>balance</th>\n",
       "      <th>amount</th>\n",
       "      <th>date</th>\n",
       "      <th>annual_sal</th>\n",
       "    </tr>\n",
       "    <tr>\n",
       "      <th>customer_id</th>\n",
       "      <th></th>\n",
       "      <th></th>\n",
       "      <th></th>\n",
       "      <th></th>\n",
       "      <th></th>\n",
       "      <th></th>\n",
       "    </tr>\n",
       "  </thead>\n",
       "  <tbody>\n",
       "    <tr>\n",
       "      <th>CUS-1462656821</th>\n",
       "      <td>23</td>\n",
       "      <td>1</td>\n",
       "      <td>8342.11</td>\n",
       "      <td>3903.95</td>\n",
       "      <td>2018-08-01</td>\n",
       "      <td>15615.80</td>\n",
       "    </tr>\n",
       "    <tr>\n",
       "      <th>CUS-2500783281</th>\n",
       "      <td>23</td>\n",
       "      <td>0</td>\n",
       "      <td>2040.58</td>\n",
       "      <td>1626.48</td>\n",
       "      <td>2018-08-01</td>\n",
       "      <td>6505.92</td>\n",
       "    </tr>\n",
       "    <tr>\n",
       "      <th>CUS-326006476</th>\n",
       "      <td>22</td>\n",
       "      <td>1</td>\n",
       "      <td>3158.51</td>\n",
       "      <td>983.36</td>\n",
       "      <td>2018-08-01</td>\n",
       "      <td>3933.44</td>\n",
       "    </tr>\n",
       "    <tr>\n",
       "      <th>CUS-1433879684</th>\n",
       "      <td>24</td>\n",
       "      <td>1</td>\n",
       "      <td>2517.66</td>\n",
       "      <td>1408.08</td>\n",
       "      <td>2018-08-01</td>\n",
       "      <td>5632.32</td>\n",
       "    </tr>\n",
       "    <tr>\n",
       "      <th>CUS-4123612273</th>\n",
       "      <td>43</td>\n",
       "      <td>0</td>\n",
       "      <td>2271.79</td>\n",
       "      <td>1068.04</td>\n",
       "      <td>2018-08-01</td>\n",
       "      <td>4272.16</td>\n",
       "    </tr>\n",
       "    <tr>\n",
       "      <th>CUS-2487424745</th>\n",
       "      <td>26</td>\n",
       "      <td>0</td>\n",
       "      <td>1017.52</td>\n",
       "      <td>1013.67</td>\n",
       "      <td>2018-08-01</td>\n",
       "      <td>4054.68</td>\n",
       "    </tr>\n",
       "    <tr>\n",
       "      <th>CUS-1196156254</th>\n",
       "      <td>34</td>\n",
       "      <td>0</td>\n",
       "      <td>16433.32</td>\n",
       "      <td>3903.73</td>\n",
       "      <td>2018-08-01</td>\n",
       "      <td>15614.92</td>\n",
       "    </tr>\n",
       "    <tr>\n",
       "      <th>CUS-1646621553</th>\n",
       "      <td>26</td>\n",
       "      <td>1</td>\n",
       "      <td>1796.37</td>\n",
       "      <td>1098.91</td>\n",
       "      <td>2018-08-01</td>\n",
       "      <td>4395.64</td>\n",
       "    </tr>\n",
       "    <tr>\n",
       "      <th>CUS-495599312</th>\n",
       "      <td>38</td>\n",
       "      <td>1</td>\n",
       "      <td>50383.16</td>\n",
       "      <td>2647.38</td>\n",
       "      <td>2018-08-01</td>\n",
       "      <td>10589.52</td>\n",
       "    </tr>\n",
       "    <tr>\n",
       "      <th>CUS-1271030853</th>\n",
       "      <td>30</td>\n",
       "      <td>0</td>\n",
       "      <td>1244.45</td>\n",
       "      <td>1158.15</td>\n",
       "      <td>2018-08-01</td>\n",
       "      <td>4632.60</td>\n",
       "    </tr>\n",
       "  </tbody>\n",
       "</table>\n",
       "</div>"
      ],
      "text/plain": [
       "                age  gender   balance   amount       date  annual_sal\n",
       "customer_id                                                          \n",
       "CUS-1462656821   23       1   8342.11  3903.95 2018-08-01    15615.80\n",
       "CUS-2500783281   23       0   2040.58  1626.48 2018-08-01     6505.92\n",
       "CUS-326006476    22       1   3158.51   983.36 2018-08-01     3933.44\n",
       "CUS-1433879684   24       1   2517.66  1408.08 2018-08-01     5632.32\n",
       "CUS-4123612273   43       0   2271.79  1068.04 2018-08-01     4272.16\n",
       "CUS-2487424745   26       0   1017.52  1013.67 2018-08-01     4054.68\n",
       "CUS-1196156254   34       0  16433.32  3903.73 2018-08-01    15614.92\n",
       "CUS-1646621553   26       1   1796.37  1098.91 2018-08-01     4395.64\n",
       "CUS-495599312    38       1  50383.16  2647.38 2018-08-01    10589.52\n",
       "CUS-1271030853   30       0   1244.45  1158.15 2018-08-01     4632.60"
      ]
     },
     "execution_count": 10,
     "metadata": {},
     "output_type": "execute_result"
    }
   ],
   "source": [
    "sal_data = r_data[(r_data['txn_description'] == 'PAY/SALARY')& (r_data['movement'] == 'credit')]\n",
    "sal_data['annual_sal'] = (round(sal_data['amount']*4,3))\n",
    "sal_data['gender'] = sal_data['gender'].apply(lambda x: 1 if x =='M' else (0 if x =='F' else None)) \n",
    "sal_data.set_index(['customer_id'], inplace = True) \n",
    "sal_data=sal_data.drop(columns=['txn_description','movement'])\n",
    "sal_data.head(10)"
   ]
  },
  {
   "cell_type": "code",
   "execution_count": 11,
   "id": "75497c41",
   "metadata": {},
   "outputs": [
    {
     "data": {
      "text/html": [
       "<div>\n",
       "<style scoped>\n",
       "    .dataframe tbody tr th:only-of-type {\n",
       "        vertical-align: middle;\n",
       "    }\n",
       "\n",
       "    .dataframe tbody tr th {\n",
       "        vertical-align: top;\n",
       "    }\n",
       "\n",
       "    .dataframe thead th {\n",
       "        text-align: right;\n",
       "    }\n",
       "</style>\n",
       "<table border=\"1\" class=\"dataframe\">\n",
       "  <thead>\n",
       "    <tr style=\"text-align: right;\">\n",
       "      <th></th>\n",
       "      <th>age</th>\n",
       "      <th>gender</th>\n",
       "      <th>balance</th>\n",
       "      <th>amount</th>\n",
       "      <th>annual_sal</th>\n",
       "    </tr>\n",
       "  </thead>\n",
       "  <tbody>\n",
       "    <tr>\n",
       "      <th>count</th>\n",
       "      <td>883.000000</td>\n",
       "      <td>883.000000</td>\n",
       "      <td>883.000000</td>\n",
       "      <td>883.000000</td>\n",
       "      <td>883.000000</td>\n",
       "    </tr>\n",
       "    <tr>\n",
       "      <th>mean</th>\n",
       "      <td>32.631937</td>\n",
       "      <td>0.525481</td>\n",
       "      <td>16242.859049</td>\n",
       "      <td>1898.728029</td>\n",
       "      <td>7594.912118</td>\n",
       "    </tr>\n",
       "    <tr>\n",
       "      <th>std</th>\n",
       "      <td>12.276731</td>\n",
       "      <td>0.499633</td>\n",
       "      <td>30953.342656</td>\n",
       "      <td>1150.364621</td>\n",
       "      <td>4601.458485</td>\n",
       "    </tr>\n",
       "    <tr>\n",
       "      <th>min</th>\n",
       "      <td>18.000000</td>\n",
       "      <td>0.000000</td>\n",
       "      <td>735.660000</td>\n",
       "      <td>576.000000</td>\n",
       "      <td>2304.000000</td>\n",
       "    </tr>\n",
       "    <tr>\n",
       "      <th>25%</th>\n",
       "      <td>22.000000</td>\n",
       "      <td>0.000000</td>\n",
       "      <td>4309.995000</td>\n",
       "      <td>1013.670000</td>\n",
       "      <td>4054.680000</td>\n",
       "    </tr>\n",
       "    <tr>\n",
       "      <th>50%</th>\n",
       "      <td>30.000000</td>\n",
       "      <td>1.000000</td>\n",
       "      <td>7532.540000</td>\n",
       "      <td>1626.480000</td>\n",
       "      <td>6505.920000</td>\n",
       "    </tr>\n",
       "    <tr>\n",
       "      <th>75%</th>\n",
       "      <td>40.000000</td>\n",
       "      <td>1.000000</td>\n",
       "      <td>14370.765000</td>\n",
       "      <td>2538.680000</td>\n",
       "      <td>10154.720000</td>\n",
       "    </tr>\n",
       "    <tr>\n",
       "      <th>max</th>\n",
       "      <td>78.000000</td>\n",
       "      <td>1.000000</td>\n",
       "      <td>267128.520000</td>\n",
       "      <td>8835.980000</td>\n",
       "      <td>35343.920000</td>\n",
       "    </tr>\n",
       "  </tbody>\n",
       "</table>\n",
       "</div>"
      ],
      "text/plain": [
       "              age      gender        balance       amount    annual_sal\n",
       "count  883.000000  883.000000     883.000000   883.000000    883.000000\n",
       "mean    32.631937    0.525481   16242.859049  1898.728029   7594.912118\n",
       "std     12.276731    0.499633   30953.342656  1150.364621   4601.458485\n",
       "min     18.000000    0.000000     735.660000   576.000000   2304.000000\n",
       "25%     22.000000    0.000000    4309.995000  1013.670000   4054.680000\n",
       "50%     30.000000    1.000000    7532.540000  1626.480000   6505.920000\n",
       "75%     40.000000    1.000000   14370.765000  2538.680000  10154.720000\n",
       "max     78.000000    1.000000  267128.520000  8835.980000  35343.920000"
      ]
     },
     "execution_count": 11,
     "metadata": {},
     "output_type": "execute_result"
    }
   ],
   "source": [
    "sal_data.describe()\n"
   ]
  },
  {
   "cell_type": "code",
   "execution_count": 12,
   "id": "6e61d09c",
   "metadata": {},
   "outputs": [
    {
     "data": {
      "text/plain": [
       "<seaborn.axisgrid.PairGrid at 0x2c7cb7e8b80>"
      ]
     },
     "execution_count": 12,
     "metadata": {},
     "output_type": "execute_result"
    },
    {
     "data": {
      "image/png": "[encoded data removed]",
      "text/plain": [
       "<Figure size 360x360 with 4 Axes>"
      ]
     },
     "metadata": {
      "needs_background": "light"
     },
     "output_type": "display_data"
    }
   ],
   "source": [
    "sns.pairplot(sal_data,x_vars=['age','gender'],y_vars=['annual_sal', 'balance'])"
   ]
  },
  {
   "cell_type": "code",
   "execution_count": 13,
   "id": "f2d09c05",
   "metadata": {},
   "outputs": [
    {
     "data": {
      "text/plain": [
       "<AxesSubplot:xlabel='age', ylabel='Count'>"
      ]
     },
     "execution_count": 13,
     "metadata": {},
     "output_type": "execute_result"
    },
    {
     "data": {
      "image/png": "[encoded data removed]",
      "text/plain": [
       "<Figure size 432x288 with 1 Axes>"
      ]
     },
     "metadata": {
      "needs_background": "light"
     },
     "output_type": "display_data"
    }
   ],
   "source": [
    "sns.histplot(sal_data['age'], bins=5)"
   ]
  },
  {
   "cell_type": "code",
   "execution_count": 14,
   "id": "901084dc",
   "metadata": {},
   "outputs": [],
   "source": [
    "from sklearn.model_selection import train_test_split \n",
    "import statsmodels.formula.api as smf\n",
    "from sklearn import linear_model, metrics\n",
    "from sklearn.tree import DecisionTreeRegressor\n",
    "from sklearn.metrics import mean_squared_error\n",
    "from sklearn.model_selection import cross_val_score\n",
    "from sklearn.metrics import r2_score"
   ]
  },
  {
   "cell_type": "code",
   "execution_count": 15,
   "id": "09a7b737",
   "metadata": {},
   "outputs": [
    {
     "data": {
      "text/plain": [
       "(883, 4)"
      ]
     },
     "execution_count": 15,
     "metadata": {},
     "output_type": "execute_result"
    }
   ],
   "source": [
    "\n",
    "x=sal_data.loc[:,('gender','age','balance','amount')]\n",
    "x.shape"
   ]
  },
  {
   "cell_type": "code",
   "execution_count": 16,
   "id": "c9fcb4bd",
   "metadata": {},
   "outputs": [
    {
     "data": {
      "text/plain": [
       "(883,)"
      ]
     },
     "execution_count": 16,
     "metadata": {},
     "output_type": "execute_result"
    }
   ],
   "source": [
    "\n",
    "y=sal_data.loc[:,('annual_sal')]\n",
    "y.shape"
   ]
  },
  {
   "cell_type": "markdown",
   "id": "6bb05297",
   "metadata": {},
   "source": [
    "### \n",
    "Split data into train set and training set"
   ]
  },
  {
   "cell_type": "code",
   "execution_count": 17,
   "id": "da28f038",
   "metadata": {},
   "outputs": [],
   "source": [
    "X_train,X_test,y_train,y_test = train_test_split(x,y,train_size=0.7,random_state=1)"
   ]
  },
  {
   "cell_type": "code",
   "execution_count": 18,
   "id": "d53893f7",
   "metadata": {},
   "outputs": [
    {
     "data": {
      "text/html": [
       "<div>\n",
       "<style scoped>\n",
       "    .dataframe tbody tr th:only-of-type {\n",
       "        vertical-align: middle;\n",
       "    }\n",
       "\n",
       "    .dataframe tbody tr th {\n",
       "        vertical-align: top;\n",
       "    }\n",
       "\n",
       "    .dataframe thead th {\n",
       "        text-align: right;\n",
       "    }\n",
       "</style>\n",
       "<table border=\"1\" class=\"dataframe\">\n",
       "  <thead>\n",
       "    <tr style=\"text-align: right;\">\n",
       "      <th></th>\n",
       "      <th>gender</th>\n",
       "      <th>age</th>\n",
       "      <th>balance</th>\n",
       "      <th>amount</th>\n",
       "    </tr>\n",
       "    <tr>\n",
       "      <th>customer_id</th>\n",
       "      <th></th>\n",
       "      <th></th>\n",
       "      <th></th>\n",
       "      <th></th>\n",
       "    </tr>\n",
       "  </thead>\n",
       "  <tbody>\n",
       "    <tr>\n",
       "      <th>CUS-1388323263</th>\n",
       "      <td>1</td>\n",
       "      <td>69</td>\n",
       "      <td>2840.39</td>\n",
       "      <td>1043.12</td>\n",
       "    </tr>\n",
       "    <tr>\n",
       "      <th>CUS-3325710106</th>\n",
       "      <td>1</td>\n",
       "      <td>20</td>\n",
       "      <td>8682.68</td>\n",
       "      <td>1099.70</td>\n",
       "    </tr>\n",
       "    <tr>\n",
       "      <th>CUS-55310383</th>\n",
       "      <td>0</td>\n",
       "      <td>30</td>\n",
       "      <td>6809.38</td>\n",
       "      <td>1636.72</td>\n",
       "    </tr>\n",
       "    <tr>\n",
       "      <th>CUS-511326734</th>\n",
       "      <td>1</td>\n",
       "      <td>23</td>\n",
       "      <td>1823.78</td>\n",
       "      <td>982.71</td>\n",
       "    </tr>\n",
       "    <tr>\n",
       "      <th>CUS-331942311</th>\n",
       "      <td>0</td>\n",
       "      <td>26</td>\n",
       "      <td>6548.23</td>\n",
       "      <td>1843.14</td>\n",
       "    </tr>\n",
       "  </tbody>\n",
       "</table>\n",
       "</div>"
      ],
      "text/plain": [
       "                gender  age  balance   amount\n",
       "customer_id                                  \n",
       "CUS-1388323263       1   69  2840.39  1043.12\n",
       "CUS-3325710106       1   20  8682.68  1099.70\n",
       "CUS-55310383         0   30  6809.38  1636.72\n",
       "CUS-511326734        1   23  1823.78   982.71\n",
       "CUS-331942311        0   26  6548.23  1843.14"
      ]
     },
     "execution_count": 18,
     "metadata": {},
     "output_type": "execute_result"
    }
   ],
   "source": [
    "X_train.head(5)"
   ]
  },
  {
   "cell_type": "code",
   "execution_count": 19,
   "id": "c4ca6c0d",
   "metadata": {},
   "outputs": [
    {
     "data": {
      "text/plain": [
       "(618, 618, 265, 265)"
      ]
     },
     "execution_count": 19,
     "metadata": {},
     "output_type": "execute_result"
    }
   ],
   "source": [
    "len(X_train),len(y_train),len(X_test),len(y_test)"
   ]
  },
  {
   "cell_type": "code",
   "execution_count": 20,
   "id": "c8e0c05b",
   "metadata": {},
   "outputs": [
    {
     "data": {
      "text/plain": [
       "Intercept    1.932676e-12\n",
       "gender      -6.991741e-12\n",
       "age         -3.663736e-14\n",
       "balance      1.301043e-16\n",
       "amount       4.000000e+00\n",
       "dtype: float64"
      ]
     },
     "execution_count": 20,
     "metadata": {},
     "output_type": "execute_result"
    }
   ],
   "source": [
    "fm = smf.ols(formula='annual_sal ~ gender+age+balance+amount', data=sal_data).fit()\n",
    "# print the coefficients\n",
    "fm.params"
   ]
  },
  {
   "cell_type": "markdown",
   "id": "532c1a9f",
   "metadata": {},
   "source": [
    "###  OLS Model Summary"
   ]
  },
  {
   "cell_type": "code",
   "execution_count": 21,
   "id": "e9dbc39e",
   "metadata": {},
   "outputs": [
    {
     "data": {
      "text/html": [
       "<table class=\"simpletable\">\n",
       "<caption>OLS Regression Results</caption>\n",
       "<tr>\n",
       "  <th>Dep. Variable:</th>       <td>annual_sal</td>    <th>  R-squared:         </th>  <td>   1.000</td> \n",
       "</tr>\n",
       "<tr>\n",
       "  <th>Model:</th>                   <td>OLS</td>       <th>  Adj. R-squared:    </th>  <td>   1.000</td> \n",
       "</tr>\n",
       "<tr>\n",
       "  <th>Method:</th>             <td>Least Squares</td>  <th>  F-statistic:       </th>  <td>7.027e+31</td>\n",
       "</tr>\n",
       "<tr>\n",
       "  <th>Date:</th>             <td>Fri, 09 Jul 2021</td> <th>  Prob (F-statistic):</th>   <td>  0.00</td>  \n",
       "</tr>\n",
       "<tr>\n",
       "  <th>Time:</th>                 <td>22:03:49</td>     <th>  Log-Likelihood:    </th>  <td>  21295.</td> \n",
       "</tr>\n",
       "<tr>\n",
       "  <th>No. Observations:</th>      <td>   883</td>      <th>  AIC:               </th> <td>-4.258e+04</td>\n",
       "</tr>\n",
       "<tr>\n",
       "  <th>Df Residuals:</th>          <td>   878</td>      <th>  BIC:               </th> <td>-4.256e+04</td>\n",
       "</tr>\n",
       "<tr>\n",
       "  <th>Df Model:</th>              <td>     4</td>      <th>                     </th>      <td> </td>    \n",
       "</tr>\n",
       "<tr>\n",
       "  <th>Covariance Type:</th>      <td>nonrobust</td>    <th>                     </th>      <td> </td>    \n",
       "</tr>\n",
       "</table>\n",
       "<table class=\"simpletable\">\n",
       "<tr>\n",
       "      <td></td>         <th>coef</th>     <th>std err</th>      <th>t</th>      <th>P>|t|</th>  <th>[0.025</th>    <th>0.975]</th>  \n",
       "</tr>\n",
       "<tr>\n",
       "  <th>Intercept</th> <td> 1.933e-12</td> <td> 9.94e-13</td> <td>    1.944</td> <td> 0.052</td> <td>-1.88e-14</td> <td> 3.88e-12</td>\n",
       "</tr>\n",
       "<tr>\n",
       "  <th>gender</th>    <td>-6.992e-12</td> <td> 5.61e-13</td> <td>  -12.456</td> <td> 0.000</td> <td>-8.09e-12</td> <td>-5.89e-12</td>\n",
       "</tr>\n",
       "<tr>\n",
       "  <th>age</th>       <td>-3.664e-14</td> <td> 2.33e-14</td> <td>   -1.571</td> <td> 0.116</td> <td>-8.24e-14</td> <td> 9.12e-15</td>\n",
       "</tr>\n",
       "<tr>\n",
       "  <th>balance</th>   <td> 1.301e-16</td> <td> 9.59e-18</td> <td>   13.572</td> <td> 0.000</td> <td> 1.11e-16</td> <td> 1.49e-16</td>\n",
       "</tr>\n",
       "<tr>\n",
       "  <th>amount</th>    <td>    4.0000</td> <td> 2.58e-16</td> <td> 1.55e+16</td> <td> 0.000</td> <td>    4.000</td> <td>    4.000</td>\n",
       "</tr>\n",
       "</table>\n",
       "<table class=\"simpletable\">\n",
       "<tr>\n",
       "  <th>Omnibus:</th>       <td>185.061</td> <th>  Durbin-Watson:     </th> <td>   0.984</td> \n",
       "</tr>\n",
       "<tr>\n",
       "  <th>Prob(Omnibus):</th> <td> 0.000</td>  <th>  Jarque-Bera (JB):  </th> <td> 838.696</td> \n",
       "</tr>\n",
       "<tr>\n",
       "  <th>Skew:</th>          <td>-0.895</td>  <th>  Prob(JB):          </th> <td>7.58e-183</td>\n",
       "</tr>\n",
       "<tr>\n",
       "  <th>Kurtosis:</th>      <td> 7.426</td>  <th>  Cond. No.          </th> <td>1.28e+05</td> \n",
       "</tr>\n",
       "</table><br/><br/>Notes:<br/>[1] Standard Errors assume that the covariance matrix of the errors is correctly specified.<br/>[2] The condition number is large, 1.28e+05. This might indicate that there are<br/>strong multicollinearity or other numerical problems."
      ],
      "text/plain": [
       "<class 'statsmodels.iolib.summary.Summary'>\n",
       "\"\"\"\n",
       "                            OLS Regression Results                            \n",
       "==============================================================================\n",
       "Dep. Variable:             annual_sal   R-squared:                       1.000\n",
       "Model:                            OLS   Adj. R-squared:                  1.000\n",
       "Method:                 Least Squares   F-statistic:                 7.027e+31\n",
       "Date:                Fri, 09 Jul 2021   Prob (F-statistic):               0.00\n",
       "Time:                        22:03:49   Log-Likelihood:                 21295.\n",
       "No. Observations:                 883   AIC:                        -4.258e+04\n",
       "Df Residuals:                     878   BIC:                        -4.256e+04\n",
       "Df Model:                           4                                         \n",
       "Covariance Type:            nonrobust                                         \n",
       "==============================================================================\n",
       "                 coef    std err          t      P>|t|      [0.025      0.975]\n",
       "------------------------------------------------------------------------------\n",
       "Intercept   1.933e-12   9.94e-13      1.944      0.052   -1.88e-14    3.88e-12\n",
       "gender     -6.992e-12   5.61e-13    -12.456      0.000   -8.09e-12   -5.89e-12\n",
       "age        -3.664e-14   2.33e-14     -1.571      0.116   -8.24e-14    9.12e-15\n",
       "balance     1.301e-16   9.59e-18     13.572      0.000    1.11e-16    1.49e-16\n",
       "amount         4.0000   2.58e-16   1.55e+16      0.000       4.000       4.000\n",
       "==============================================================================\n",
       "Omnibus:                      185.061   Durbin-Watson:                   0.984\n",
       "Prob(Omnibus):                  0.000   Jarque-Bera (JB):              838.696\n",
       "Skew:                          -0.895   Prob(JB):                    7.58e-183\n",
       "Kurtosis:                       7.426   Cond. No.                     1.28e+05\n",
       "==============================================================================\n",
       "\n",
       "Notes:\n",
       "[1] Standard Errors assume that the covariance matrix of the errors is correctly specified.\n",
       "[2] The condition number is large, 1.28e+05. This might indicate that there are\n",
       "strong multicollinearity or other numerical problems.\n",
       "\"\"\""
      ]
     },
     "execution_count": 21,
     "metadata": {},
     "output_type": "execute_result"
    }
   ],
   "source": [
    "# print a summary of the fitted model\n",
    "fm.summary()"
   ]
  },
  {
   "cell_type": "markdown",
   "id": "f4e33bd1",
   "metadata": {},
   "source": [
    "#### LinearRegression Model and apply CrossValidation"
   ]
  },
  {
   "cell_type": "code",
   "execution_count": 22,
   "id": "db5bbbcb",
   "metadata": {},
   "outputs": [
    {
     "data": {
      "text/plain": [
       "array([-6.58589988e-23, -2.82596676e-23, -8.80339819e-24, -4.91843472e-24,\n",
       "       -1.62792434e-23])"
      ]
     },
     "execution_count": 22,
     "metadata": {},
     "output_type": "execute_result"
    }
   ],
   "source": [
    "fm1 = linear_model.LinearRegression()\n",
    "scores = cross_val_score(fm1, x,y, cv=5,scoring='neg_mean_squared_error')\n",
    "scores"
   ]
  },
  {
   "cell_type": "code",
   "execution_count": 23,
   "id": "e4bd0027",
   "metadata": {},
   "outputs": [
    {
     "name": "stdout",
     "output_type": "stream",
     "text": [
      "-4.547473508864641e-12\n",
      "[ 4.46432261e-16  3.03673753e-13 -5.55111512e-17  4.00000000e+00]\n"
     ]
    }
   ],
   "source": [
    "\n",
    "fm1.fit(X_train, y_train)\n",
    "\n",
    "# print the coefficients\n",
    "print(fm1.intercept_)\n",
    "print(fm1.coef_)"
   ]
  },
  {
   "cell_type": "code",
   "execution_count": 24,
   "id": "f102f133",
   "metadata": {},
   "outputs": [
    {
     "name": "stdout",
     "output_type": "stream",
     "text": [
      "accuracy on train data 1.0\n"
     ]
    }
   ],
   "source": [
    "\n",
    "print(\"accuracy on train data\", (fm1.score(X_train , y_train)))"
   ]
  },
  {
   "cell_type": "code",
   "execution_count": 25,
   "id": "68bf3b86",
   "metadata": {},
   "outputs": [
    {
     "name": "stdout",
     "output_type": "stream",
     "text": [
      "accuracy on test data 1.0\n"
     ]
    }
   ],
   "source": [
    "y_pred_fm1 = fm1.predict(X_test) # Making predictions\n",
    "print(\"accuracy on test data\", fm1.score(X_test , y_test))"
   ]
  },
  {
   "cell_type": "code",
   "execution_count": 28,
   "id": "81fa8011",
   "metadata": {},
   "outputs": [
    {
     "data": {
      "text/plain": [
       "[('gender', 4.46432261250089e-16),\n",
       " ('age', 3.0367375281059594e-13),\n",
       " ('balance', -5.551115123125783e-17),\n",
       " ('amount', 3.9999999999999973)]"
      ]
     },
     "execution_count": 28,
     "metadata": {},
     "output_type": "execute_result"
    }
   ],
   "source": [
    "# pair the feature names with the coefficients\n",
    "list(zip(x, fm1.coef_))"
   ]
  },
  {
   "cell_type": "markdown",
   "id": "a24b95b8",
   "metadata": {},
   "source": [
    "###  DecisionTreeRegressor Model with max_depth 5"
   ]
  },
  {
   "cell_type": "code",
   "execution_count": 29,
   "id": "28164853",
   "metadata": {},
   "outputs": [
    {
     "data": {
      "text/plain": [
       "array([0.99853323, 0.9982717 , 0.99869871, 0.99701699, 0.9988111 ])"
      ]
     },
     "execution_count": 29,
     "metadata": {},
     "output_type": "execute_result"
    }
   ],
   "source": [
    "\n",
    "dt = DecisionTreeRegressor(max_depth=5)\n",
    "dt_scores = cross_val_score(dt, x,y, cv=5)\n",
    "dt_scores"
   ]
  },
  {
   "cell_type": "code",
   "execution_count": 30,
   "id": "d6deb80c",
   "metadata": {},
   "outputs": [
    {
     "name": "stdout",
     "output_type": "stream",
     "text": [
      "accuracy on train data 0.9980306118489595\n",
      " accuracy on test Data 0.9975505932575178\n"
     ]
    }
   ],
   "source": [
    "dt.fit(X_train, y_train) # Fit the model\n",
    "y_pred_train_dt = dt.predict(X_train) #train model prediction\n",
    "print(\"accuracy on train data\", (dt.score(X_train , y_train))) # Model Score on train data \n",
    "y_pred_dt = dt.predict(X_test) # Making predictions\n",
    "print(\" accuracy on test Data\", dt.score(X_test , y_test)) # Model Score on test data"
   ]
  },
  {
   "cell_type": "code",
   "execution_count": null,
   "id": "16e7f951",
   "metadata": {},
   "outputs": [],
   "source": []
  }
 ],
 "metadata": {
  "kernelspec": {
   "display_name": "Python 3",
   "language": "python",
   "name": "python3"
  },
  "language_info": {
   "codemirror_mode": {
    "name": "ipython",
    "version": 3
   },
   "file_extension": ".py",
   "mimetype": "text/x-python",
   "name": "python",
   "nbconvert_exporter": "python",
   "pygments_lexer": "ipython3",
   "version": "3.8.8"
  }
 },
 "nbformat": 4,
 "nbformat_minor": 5
}
